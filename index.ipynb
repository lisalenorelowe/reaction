{
 "cells": [
  {
   "cell_type": "code",
   "execution_count": 1,
   "id": "5e31b9f7-2185-4a09-9239-fa1906f08962",
   "metadata": {
    "tags": []
   },
   "outputs": [],
   "source": [
    "import numpy as np"
   ]
  },
  {
   "cell_type": "code",
   "execution_count": 2,
   "id": "4a9ef386-7878-4b48-82b0-2e4e228f689a",
   "metadata": {
    "tags": []
   },
   "outputs": [],
   "source": [
    "OM = 100.\n",
    "O2 = 172.\n",
    "NO3 = 5.\n",
    "KG = 30.\n",
    "KO2 = 10.\n",
    "KstarO2 = 10.\n",
    "KNO3 = 5.\n",
    "X = 106.\n",
    "Y = 16.\n",
    "Z = 1.\n",
    "RC = np.array([])"
   ]
  },
  {
   "cell_type": "code",
   "execution_count": 3,
   "id": "7cde175d-1a5f-4113-ab36-950e0a759c7a",
   "metadata": {
    "tags": []
   },
   "outputs": [],
   "source": [
    "def reaction(OM, O2, NO3, KG, KO2, KstarO2, KNO3, X, Y, Z):\n",
    "    rO2 =  O2 / ( KO2 + O2 )\n",
    "    FBNO3 = KO2 / ( KO2 + O2 )\n",
    "    rNO3 = O2 / ( KO2 + O2 ) * FBNO3\n",
    "    R1 = OM * rO2\n",
    "    R2 = OM * rNO3\n",
    "    R_SUM = R1 + R2\n",
    "    GAM4 = ( 4.0 * X + 3.0 * Y ) / 5.0 / X\n",
    "    BET4 = ( 2.0 * X + 4.0 * Y ) / 5.0 / X\n",
    "    RN2 = ( BET4 * R2 )\n",
    "    A4  = ( 4.0 * X + 3.0 * Y - 10.0 * Z ) / 5.0 / X\n",
    "    RO2 = -( R1 )\n",
    "    RNO3 = - ( GAM4 * R2 )\n",
    "    RALK = ( A4 * R2 )\n",
    "    RNH4 = ( Y / X * R1 )\n",
    "    RSi    =  R_SUM * Y/X\n",
    "    RPO4   =  R_SUM * Z/X\n",
    "    RCH2O =  -R_SUM\n",
    "    RTC = R_SUM\n",
    "    RC = [RCH2O,RO2,RNO3,RPO4,RTC,RNH4,RALK,RN2] \n",
    "    return RC"
   ]
  },
  {
   "cell_type": "code",
   "execution_count": 4,
   "id": "90e4a134-2088-4571-9fb8-01b2e969fe4a",
   "metadata": {
    "tags": []
   },
   "outputs": [],
   "source": [
    "C = 106.\n",
    "N = 16.\n",
    "P = 1.\n",
    "OM = C\n",
    "X = C/P\n",
    "Y = N/P\n",
    "Z = P/P\n",
    "R = reaction(OM, O2, NO3, KG, KO2, KstarO2, KNO3, X, Y, Z)\n",
    "#Carbon decay\n",
    "RC = R[0]\n",
    "#Nitrogen decay\n",
    "RN = RC*Y/X\n",
    "#Phosphorus decay\n",
    "RP = RC/X\n",
    "#[RCH2O,        RO2,     RNO3,   PO4,    RTC,   RNH4,  RALK,  RN2] \n",
    "#numpy.round(RC[0],3),numpy.round(RC[3],3),numpy.round(RC[4],3),numpy.round((RC[2]+RC[5]+2*RC[7]),3)"
   ]
  },
  {
   "cell_type": "code",
   "execution_count": 5,
   "id": "a49556be-cdc8-41be-a678-f7d1e829e90e",
   "metadata": {
    "tags": []
   },
   "outputs": [
    {
     "data": {
      "text/plain": [
       "array([-105.68 , -100.176,   -4.902,    0.997,  105.68 ,   15.121,\n",
       "          4.798,    2.866])"
      ]
     },
     "execution_count": 5,
     "metadata": {},
     "output_type": "execute_result"
    }
   ],
   "source": [
    "np.round(R,3)"
   ]
  },
  {
   "cell_type": "code",
   "execution_count": 6,
   "id": "7a8a0ebe-5194-424c-ba73-2399f8b6ba28",
   "metadata": {
    "tags": []
   },
   "outputs": [
    {
     "data": {
      "text/plain": [
       "(105.68, 15.952, 0.997)"
      ]
     },
     "execution_count": 6,
     "metadata": {},
     "output_type": "execute_result"
    }
   ],
   "source": [
    "np.round(R[4],3),np.round((R[2]+R[5]+2*R[7]),3),np.round(R[3],3)"
   ]
  },
  {
   "cell_type": "code",
   "execution_count": 7,
   "id": "3eefc331-62db-45e6-b56b-4658c6110557",
   "metadata": {
    "tags": []
   },
   "outputs": [
    {
     "data": {
      "text/plain": [
       "(-105.68, -15.952, -0.997)"
      ]
     },
     "execution_count": 7,
     "metadata": {},
     "output_type": "execute_result"
    }
   ],
   "source": [
    "np.round((RC),3),np.round((RN),3),np.round((RP),3)"
   ]
  },
  {
   "cell_type": "code",
   "execution_count": 8,
   "id": "539b61aa-1cb7-4e01-b41d-90163ba475fb",
   "metadata": {
    "tags": []
   },
   "outputs": [
    {
     "data": {
      "text/plain": [
       "-122.629"
      ]
     },
     "execution_count": 8,
     "metadata": {},
     "output_type": "execute_result"
    }
   ],
   "source": [
    "np.round((RC+RN+RP),3)"
   ]
  },
  {
   "cell_type": "code",
   "execution_count": null,
   "id": "bcf0af87-738f-4a57-806a-2c47c4fe8a94",
   "metadata": {},
   "outputs": [],
   "source": []
  }
 ],
 "metadata": {
  "kernelspec": {
   "display_name": "Python 3 (ipykernel)",
   "language": "python",
   "name": "python3"
  },
  "language_info": {
   "codemirror_mode": {
    "name": "ipython",
    "version": 3
   },
   "file_extension": ".py",
   "mimetype": "text/x-python",
   "name": "python",
   "nbconvert_exporter": "python",
   "pygments_lexer": "ipython3",
   "version": "3.10.11"
  }
 },
 "nbformat": 4,
 "nbformat_minor": 5
}
